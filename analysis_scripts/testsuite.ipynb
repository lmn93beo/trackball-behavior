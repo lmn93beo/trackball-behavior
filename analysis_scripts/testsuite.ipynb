{
 "cells": [
  {
   "cell_type": "code",
   "execution_count": 1,
   "metadata": {},
   "outputs": [],
   "source": [
    "import trackball_suite"
   ]
  },
  {
   "cell_type": "code",
   "execution_count": 3,
   "metadata": {},
   "outputs": [
    {
     "data": {
      "text/plain": [
       "array([1, 2, 1, 2, 2, 2, 1, 2, 1, 1, 1, 1, 2, 2, 2, 1, 1, 2, 2, 2, 1, 1,\n",
       "       2, 1, 2, 2, 1, 2, 1, 2, 1, 1, 2, 1, 1, 1, 2, 1, 1, 2, 1, 1, 1, 2,\n",
       "       1, 1, 2, 2, 1, 2, 2, 2, 1, 2, 1, 2, 1, 1, 1, 1, 2, 1, 1, 1, 2, 2,\n",
       "       1, 1, 2, 2, 1, 2, 1, 2, 2, 2, 2, 2, 1, 1, 2, 1, 1, 1, 2, 1, 1, 1,\n",
       "       2, 1, 2, 2, 2, 2, 2, 2, 1, 2, 2, 1, 2, 1, 1, 2, 2, 2, 2, 2, 1, 2,\n",
       "       2, 2, 1, 2, 1, 2, 2, 2, 2, 2, 2, 1, 1, 2, 1, 2, 1, 2, 1, 2, 1, 2,\n",
       "       2, 2, 1, 1, 1, 2, 2, 1, 2, 1, 1, 2, 2, 2, 2, 2, 1, 2, 2, 1, 2, 2,\n",
       "       1, 2, 2, 5, 1, 2, 2, 2, 1, 2, 2, 1, 2, 2, 2, 2, 1, 2, 2, 1, 1, 2,\n",
       "       2, 2, 1, 1, 2, 2, 1, 1, 1, 2, 2, 1, 2, 1, 1, 2, 2, 1, 1, 2, 1, 1,\n",
       "       2, 2, 1, 1, 2, 1, 1, 2, 2, 1, 2, 1, 2, 2, 2, 1, 2, 1, 2, 1, 2, 5,\n",
       "       2, 1, 2, 1, 2, 1, 2, 1, 2, 1, 1, 2, 1, 5, 2, 2, 2, 1, 2, 1, 5, 1,\n",
       "       2, 1, 2, 1, 2, 1, 2, 2, 2, 1, 2, 1, 2, 2, 2, 1, 2, 1, 2, 2, 1, 1,\n",
       "       5, 1, 2, 2, 1, 2, 1, 2, 1, 2, 1, 1, 1, 2, 2, 2, 1, 2, 5, 2, 2, 2,\n",
       "       5, 1, 2, 5, 1, 1, 1, 2, 1, 1, 5, 1, 2, 2, 1, 2, 1, 1, 1, 2, 2, 5,\n",
       "       1, 1, 2, 2, 1, 5, 5, 2, 2, 1, 2, 2, 2, 1, 2, 1, 2, 2, 1, 5, 1, 2,\n",
       "       2, 1, 1, 2, 2, 2, 5, 2, 2, 1, 1, 2, 2, 2, 2, 2, 1, 2, 1, 1, 5, 2,\n",
       "       2, 2, 1, 2, 1, 2, 2, 1, 2, 2, 2, 2, 2, 5, 1, 5])"
      ]
     },
     "execution_count": 3,
     "metadata": {},
     "output_type": "execute_result"
    }
   ],
   "source": [
    "sourcefile = 'C:\\\\Users\\\\Sur lab\\\\Dropbox (MIT)\\\\trackball-behavior\\\\Data\\\\C13\\\\laser_analys_FebMar2019_left\\\\20190220_trackball_0013.mat'\n",
    "session = trackball_suite.Session(sourcefile)\n",
    "\n",
    "session.choice\n"
   ]
  },
  {
   "cell_type": "code",
   "execution_count": 4,
   "metadata": {},
   "outputs": [],
   "source": [
    "def test1():\n",
    "    sourcefile = 'C:\\\\Users\\\\Sur lab\\\\Dropbox (MIT)\\\\trackball-behavior\\\\Data\\\\C13\\\\laser_analys_FebMar2019_left\\\\20190220_trackball_0013.mat'\n",
    "    session = trackball_suite.Session(sourcefile)\n",
    "\n",
    "    assert session.choice[0] == 1"
   ]
  },
  {
   "cell_type": "code",
   "execution_count": null,
   "metadata": {},
   "outputs": [],
   "source": []
  }
 ],
 "metadata": {
  "kernelspec": {
   "display_name": "Python 3",
   "language": "python",
   "name": "python3"
  },
  "language_info": {
   "codemirror_mode": {
    "name": "ipython",
    "version": 3
   },
   "file_extension": ".py",
   "mimetype": "text/x-python",
   "name": "python",
   "nbconvert_exporter": "python",
   "pygments_lexer": "ipython3",
   "version": "3.7.0"
  }
 },
 "nbformat": 4,
 "nbformat_minor": 2
}
