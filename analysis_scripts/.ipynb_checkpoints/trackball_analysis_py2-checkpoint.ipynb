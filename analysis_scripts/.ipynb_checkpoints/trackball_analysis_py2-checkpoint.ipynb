{
 "cells": [
  {
   "cell_type": "code",
   "execution_count": 1,
   "metadata": {},
   "outputs": [],
   "source": [
    "import numpy as np\n",
    "import matplotlib.pyplot as plt\n",
    "import scipy.io as sp\n",
    "import seaborn as sns\n",
    "from sklearn.linear_model import LogisticRegression\n",
    "from sklearn.datasets import load_iris\n",
    "import glob\n",
    "\n",
    "%matplotlib inline"
   ]
  },
  {
   "cell_type": "code",
   "execution_count": 2,
   "metadata": {},
   "outputs": [],
   "source": [
    "# Import behavior\n",
    "folder = 'C:\\\\Users\\\\Sur lab\\\\Dropbox (MIT)\\\\trackball-behavior\\\\Data\\\\96\\\\Dec2018\\\\'\n",
    "folder2 = 'C:\\\\Users\\\\Sur lab\\\\Dropbox (MIT)\\\\trackball-behavior\\\\Data\\\\96\\\\Oct2018\\\\'\n",
    "folder3 = 'C:\\\\Users\\\\Sur lab\\\\Dropbox (MIT)\\\\trackball-behavior\\\\Data\\\\97\\\\Dec2018\\\\'\n",
    "\n",
    "filename = '20181211_trackball_0096.mat'\n",
    "#data = sp.loadmat(folder + filename)\n",
    "\n"
   ]
  },
  {
   "cell_type": "code",
   "execution_count": 3,
   "metadata": {},
   "outputs": [],
   "source": [
    "def get_choice_stim(path):\n",
    "    '''Given the path to the .mat behavior file,\n",
    "    return the choice array and the stimulus type array'''\n",
    "    data = sp.loadmat(path)\n",
    "    choice = data['data']['response'][0,0]['choice'][0,0][0]\n",
    "    ntrials = len(choice)\n",
    "    stim = data['data']['stimuli'][0,0]['loc'][0,0][0][:ntrials]\n",
    "    return choice, stim"
   ]
  },
  {
   "cell_type": "code",
   "execution_count": 4,
   "metadata": {},
   "outputs": [],
   "source": [
    "def get_struct_field(data, field, subfield=None):\n",
    "    if subfield == None:\n",
    "        return data['data'][field][0,0]\n",
    "    else:\n",
    "        return data['data'][field][0,0][subfield][0,0][0]\n",
    "def get_performance(data):\n",
    "    '''Given the data structure, return the performance in the form:\n",
    "    An N x 3 array where the columns correspond to\n",
    "    contrast, performance left, performance right,\n",
    "    and each column is one contrast'''\n",
    "    # Load necessary arrays\n",
    "    choice = data['data']['response'][0,0]['choice'][0,0][0]\n",
    "    ntrials = len(choice)\n",
    "    stim = data['data']['stimuli'][0,0]['loc'][0,0][0][:ntrials]\n",
    "    cons = data['data']['stimuli'][0,0]['opp_contrast'][0,0][0][:ntrials]\n",
    "\n",
    "    # Process\n",
    "    curr_con = np.unique(cons)\n",
    "    output = np.zeros((len(curr_con), 3))\n",
    "    for i in range(len(curr_con)):\n",
    "        if np.sum((stim == 2) & (cons == curr_con[i])) == np.sum((stim == 2) & (cons == curr_con[i]) & (choice == 5)):\n",
    "            perf_l = np.nan\n",
    "        else:\n",
    "            perf_l = float(np.sum((stim == 2) & (choice == 2) & (cons == curr_con[i]))) / \\\n",
    "                (np.sum((stim == 2) & (cons == curr_con[i])) - np.sum((stim == 2) & (cons == curr_con[i]) & (choice == 5)))\n",
    "        #print np.sum((stim == 2) & (choice == 2) & (cons == curr_con[i]))\n",
    "        if np.sum((stim == 1) & (cons == curr_con[i])) == np.sum((stim == 1) & (cons == curr_con[i]) & (choice == 5)):\n",
    "            perf_r = np.nan\n",
    "        else:\n",
    "            perf_r = float(np.sum((stim == 1) & (choice == 1) & (cons == curr_con[i]))) / \\\n",
    "                (np.sum((stim == 1) & (cons == curr_con[i])) - np.sum((stim == 1) & (cons == curr_con[i]) & (choice == 5)))\n",
    "        \n",
    "        output[i,0] = curr_con[i]\n",
    "        output[i,1] = perf_l\n",
    "        output[i,2] = perf_r\n",
    "    return output\n",
    "\n",
    "def plot_psychometric(data):\n",
    "    '''Given the data structure, plot the psychometric curve'''\n",
    "    performance = get_performance(data)\n",
    "    contrast = get_struct_field(data, 'params', 'contrast')\n",
    "    condiff = performance[:,0] - contrast\n",
    "    xaxis = np.hstack([condiff, -np.flip(condiff, axis=0)])\n",
    "    yaxis = np.hstack([1 - performance[:,2], np.flip(performance[:,1], axis=0)])\n",
    "    #print(xaxis)\n",
    "    plt.plot(xaxis, yaxis, 'b', alpha=0.1)\n",
    "    plt.xlabel('Contrast difference')\n",
    "    plt.ylabel('% Left')\n",
    "    plt.ylim([0, 1])\n",
    "    "
   ]
  },
  {
   "cell_type": "markdown",
   "metadata": {},
   "source": [
    "## Define new classes for easy data analysis"
   ]
  },
  {
   "cell_type": "code",
   "execution_count": 5,
   "metadata": {},
   "outputs": [],
   "source": [
    "def get_struct_field(data, field, subfield=None):\n",
    "    if subfield == None:\n",
    "        return data['data'][field][0,0]\n",
    "    else:\n",
    "        return data['data'][field][0,0][subfield][0,0][0]\n",
    "\n",
    "class Session(object):\n",
    "    def __init__(self, folder, filename):\n",
    "        self.data = sp.loadmat(folder + filename)\n",
    "        self.mouse = get_struct_field(self.data, 'mouse')[0,0]\n",
    "        self.choice = get_struct_field(self.data, 'response', 'choice')\n",
    "        self.ntrials = len(self.choice)\n",
    "        self.stim = get_struct_field(self.data, 'stimuli', 'loc')[:self.ntrials]\n",
    "        self.cons = get_struct_field(self.data, 'stimuli', 'opp_contrast')[:self.ntrials]\n",
    "        \n",
    "    def get_choice(self):\n",
    "        '''Returns an array of choice'''\n",
    "        return self.choice\n",
    "    \n",
    "    def get_stim(self):\n",
    "        '''Returns an array of stimulus location'''\n",
    "        return self.stim\n",
    "        \n",
    "    def get_opp_contrast(self):\n",
    "        '''Returns an array of opposite contrast'''\n",
    "        return self.cons\n",
    "    \n",
    "    def get_performance(self):\n",
    "        '''Given the data structure, return the performance in the form:\n",
    "        An N x 3 array where the columns correspond to\n",
    "        contrast, performance left, performance right,\n",
    "        and each column is one contrast'''\n",
    "        # Load necessary arrays\n",
    "        choice = self.get_choice()  \n",
    "        stim = self.get_stim()\n",
    "        cons = self.get_opp_contrast()\n",
    "\n",
    "        # Process\n",
    "        curr_con = np.unique(cons)\n",
    "        output = np.zeros((len(curr_con), 3))\n",
    "        for i in range(len(curr_con)):\n",
    "            if np.sum((stim == 2) & (cons == curr_con[i])) == np.sum((stim == 2) & (cons == curr_con[i]) & (choice == 5)):\n",
    "                perf_l = np.nan\n",
    "            else:\n",
    "                perf_l = float(np.sum((stim == 2) & (choice == 2) & (cons == curr_con[i]))) / \\\n",
    "                    (np.sum((stim == 2) & (cons == curr_con[i])) - np.sum((stim == 2) & (cons == curr_con[i]) & (choice == 5)))\n",
    "            #print np.sum((stim == 2) & (choice == 2) & (cons == curr_con[i]))\n",
    "            if np.sum((stim == 1) & (cons == curr_con[i])) == np.sum((stim == 1) & (cons == curr_con[i]) & (choice == 5)):\n",
    "                perf_r = np.nan\n",
    "            else:\n",
    "                perf_r = float(np.sum((stim == 1) & (choice == 1) & (cons == curr_con[i]))) / \\\n",
    "                    (np.sum((stim == 1) & (cons == curr_con[i])) - np.sum((stim == 1) & (cons == curr_con[i]) & (choice == 5)))\n",
    "\n",
    "            output[i,0] = curr_con[i]\n",
    "            output[i,1] = perf_l\n",
    "            output[i,2] = perf_r\n",
    "        return output\n",
    "    \n",
    "    def plot_raw_performance(self):\n",
    "        '''Plot a visualization of raw performance'''\n",
    "        choice = self.get_choice()\n",
    "        ntrials = self.ntrials\n",
    "        stim = self.get_stim()\n",
    "        trialstart = get_struct_field(self.data, 'response', 'trialstart') / 60\n",
    "        \n",
    "        # Plot the time-outs\n",
    "        timeouts = np.where(choice == 5)\n",
    "        plt.figure(figsize=(20, 10))\n",
    "        plt.plot(trialstart[timeouts], stim[timeouts], 'ko')\n",
    "        \n",
    "        # Plot correct/incorrect trials\n",
    "        corr = np.where((choice != 5) & (stim == choice))[0]\n",
    "        incorr = np.where((choice != 5) & (stim != choice))[0] \n",
    "        plt.plot(trialstart[corr], stim[corr], 'bo')\n",
    "        plt.plot(trialstart[incorr], stim[incorr], 'ro')\n",
    "        \n",
    "        plt.xlabel('Time (min)')\n",
    "        plt.yticks([1, 2], ['Left', 'Right'])\n",
    "        \n",
    "\n",
    "    def plot_psychometric(self):\n",
    "        '''Given the data structure, plot the psychometric curve'''\n",
    "        performance = self.get_performance()\n",
    "        contrast = get_struct_field(self.data, 'params', 'contrast')\n",
    "        condiff = performance[:,0] - contrast\n",
    "        xaxis = np.hstack([condiff, -np.flip(condiff, axis=0)])\n",
    "        yaxis = np.hstack([1 - performance[:,2], np.flip(performance[:,1], axis=0)])\n",
    "        #print(xaxis)\n",
    "        plt.plot(xaxis, yaxis, 'b', alpha=0.1)\n",
    "        plt.xlabel('Contrast difference')\n",
    "        plt.ylabel('% Left')\n",
    "        plt.ylim([0, 1])\n",
    "        \n",
    "    def find_logistic_coef(self):\n",
    "        '''Returns the logistic regression of the session'''\n",
    "        choice = self.get_choice()\n",
    "        stim = self.get_stim()\n",
    "        \n",
    "        #timeouts = np.where(choice == 5)\n",
    "        #corr = np.where((choice != 5) & (stim == choice))\n",
    "        #incorr = np.where((choice != 5) & (stim != choice))\n",
    "        #left = np.where(stim == 1)\n",
    "        #right = np.where(stim == 2)\n",
    "\n",
    "        # Make a design matrix\n",
    "        currchoice = choice[1:]\n",
    "        currstim = stim[1:]\n",
    "        prevchoice = choice[:-1]\n",
    "        prevstim = stim[:-1]\n",
    "        prev_reward = prevchoice * prevstim\n",
    "        prev_choiceXrew = prevchoice * prev_reward\n",
    "\n",
    "        y_b = currchoice[(currchoice != 5) & (prevchoice != 5)] - 1\n",
    "        X = np.vstack([currstim, prev_reward, prevchoice, prev_reward, prev_choiceXrew]).T\n",
    "        X_b = X[(currchoice != 5) & (prevchoice != 5),:] - 1\n",
    "\n",
    "        if len(np.unique(y_b)) < 2:\n",
    "            raise ValueError('Only one value in y')\n",
    "        # Do logistic regression\n",
    "        clf = LogisticRegression(random_state=0, solver='lbfgs',\n",
    "                                  multi_class='multinomial').fit(X_b, y_b)\n",
    "\n",
    "        # Print the coefficients\n",
    "        return clf.coef_, clf.intercept_\n",
    "        \n",
    "    "
   ]
  },
  {
   "cell_type": "code",
   "execution_count": 6,
   "metadata": {},
   "outputs": [],
   "source": [
    "session1 = Session(folder, filename)"
   ]
  },
  {
   "cell_type": "code",
   "execution_count": 7,
   "metadata": {},
   "outputs": [
    {
     "data": {
      "image/png": "[encoded data removed]",
      "text/plain": [
       "<Figure size 1440x720 with 1 Axes>"
      ]
     },
     "metadata": {
      "needs_background": "light"
     },
     "output_type": "display_data"
    }
   ],
   "source": [
    "session1.plot_raw_performance()"
   ]
  },
  {
   "cell_type": "code",
   "execution_count": 8,
   "metadata": {},
   "outputs": [
    {
     "data": {
      "text/plain": [
       "(array([[ 1.03473932, -0.56567345, -0.11402591, -0.56567345,  0.37176831]]),\n",
       " array([-0.36614981]))"
      ]
     },
     "execution_count": 8,
     "metadata": {},
     "output_type": "execute_result"
    }
   ],
   "source": [
    "session1.find_logistic_coef()"
   ]
  },
  {
   "cell_type": "code",
   "execution_count": 9,
   "metadata": {},
   "outputs": [
    {
     "data": {
      "image/png": "[encoded data removed]",
      "text/plain": [
       "<Figure size 432x288 with 1 Axes>"
      ]
     },
     "metadata": {
      "needs_background": "light"
     },
     "output_type": "display_data"
    }
   ],
   "source": [
    "session1.plot_psychometric()"
   ]
  }
 ],
 "metadata": {
  "kernelspec": {
   "display_name": "Python 3",
   "language": "python",
   "name": "python3"
  },
  "language_info": {
   "codemirror_mode": {
    "name": "ipython",
    "version": 3
   },
   "file_extension": ".py",
   "mimetype": "text/x-python",
   "name": "python",
   "nbconvert_exporter": "python",
   "pygments_lexer": "ipython3",
   "version": "3.7.0"
  }
 },
 "nbformat": 4,
 "nbformat_minor": 2
}
